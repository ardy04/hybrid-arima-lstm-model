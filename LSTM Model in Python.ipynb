{
  "nbformat": 4,
  "nbformat_minor": 0,
  "metadata": {
    "accelerator": "GPU",
    "colab": {
      "name": "LSTM Di Python",
      "provenance": [],
      "collapsed_sections": []
    },
    "kernelspec": {
      "display_name": "Python 3",
      "name": "python3"
    }
  },
  "cells": [
    {
      "cell_type": "code",
      "metadata": {
        "colab": {
          "base_uri": "https://localhost:8080/"
        },
        "id": "WZ0OV8mZLX0j",
        "outputId": "a39f9b77-7113-4211-bacf-1cddfb22867b"
      },
      "source": [
        "from google.colab import drive\n",
        "drive.mount('/content/drive')"
      ],
      "execution_count": 1,
      "outputs": [
        {
          "output_type": "stream",
          "text": [
            "Drive already mounted at /content/drive; to attempt to forcibly remount, call drive.mount(\"/content/drive\", force_remount=True).\n"
          ],
          "name": "stdout"
        }
      ]
    },
    {
      "cell_type": "code",
      "metadata": {
        "id": "mtVv6WSJMetE"
      },
      "source": [
        "!cp \"/content/drive/My Drive/Datasets/Residual_bca.csv\" \"res.csv\"\n",
        "!cp \"/content/drive/My Drive/Datasets/res_test.csv\" \"res_test.csv\"\n",
        "!cp \"/content/drive/My Drive/Datasets/bbca_skripsi.csv\" \"bbca.csv\""
      ],
      "execution_count": 2,
      "outputs": []
    },
    {
      "cell_type": "code",
      "metadata": {
        "id": "ttpzURV1NFxO"
      },
      "source": [
        "from keras.layers import LSTM, Dense\n",
        "from keras.models import Sequential\n",
        "import keras\n",
        "import tensorflow as tf\n",
        "import numpy as np\n",
        "import pandas as pd\n",
        "import matplotlib.pyplot as plt"
      ],
      "execution_count": 3,
      "outputs": []
    },
    {
      "cell_type": "code",
      "metadata": {
        "colab": {
          "base_uri": "https://localhost:8080/",
          "height": 35
        },
        "id": "9sL5ScBbgKor",
        "outputId": "ed31a2a4-68d0-4b51-a2d0-660784ce90db"
      },
      "source": [
        "tf.__version__"
      ],
      "execution_count": 4,
      "outputs": [
        {
          "output_type": "execute_result",
          "data": {
            "application/vnd.google.colaboratory.intrinsic+json": {
              "type": "string"
            },
            "text/plain": [
              "'2.6.0'"
            ]
          },
          "metadata": {},
          "execution_count": 4
        }
      ]
    },
    {
      "cell_type": "code",
      "metadata": {
        "id": "TJ5kh6b7MfMu"
      },
      "source": [
        "saham = pd.read_csv(\"bbca.csv\")\n",
        "saham = np.array(saham)"
      ],
      "execution_count": 5,
      "outputs": []
    },
    {
      "cell_type": "code",
      "metadata": {
        "id": "y2ZjQFnqNJKL"
      },
      "source": [
        "res_train = pd.read_csv(\"res.csv\")\n",
        "res_train = np.array(res_train)"
      ],
      "execution_count": 6,
      "outputs": []
    },
    {
      "cell_type": "code",
      "metadata": {
        "id": "vf2tHq6zMnZg"
      },
      "source": [
        "res_test = pd.read_csv(\"res_test.csv\")\n",
        "res_test = np.array(res_test)"
      ],
      "execution_count": 7,
      "outputs": []
    },
    {
      "cell_type": "code",
      "metadata": {
        "id": "BF19BFci5EVE"
      },
      "source": [
        "def scaler(x):\n",
        "  newx = (x-min(x))/(max(x)-min(x))\n",
        "  return newx\n",
        "\n",
        "def buat_timelag(data, lag):\n",
        "  x = np.zeros(shape = (len(data) - lag, lag))\n",
        "  y = np.zeros(shape = len(data)-lag)\n",
        "  for i in range(len(data)-lag):\n",
        "    x[i] = np.array([x for x in data[i:i+lag]])\n",
        "    y[i] = np.array([data[i+lag]])\n",
        "  return x, y"
      ],
      "execution_count": 8,
      "outputs": []
    },
    {
      "cell_type": "code",
      "metadata": {
        "id": "WtmsbLnBOtLz",
        "colab": {
          "base_uri": "https://localhost:8080/"
        },
        "outputId": "5b5c53da-baed-48f6-aeaa-87954d8f28e0"
      },
      "source": [
        "scaled_res_train = scaler(res_train)\n",
        "x_res_train, y_res_train = buat_timelag(scaled_res_train.reshape(1188), 4)\n",
        "x_res_train_rnn = np.reshape(x_res_train, (x_res_train.shape[0], x_res_train.shape[1], 1))\n",
        "print(x_res_train_rnn.shape, y_res_train.shape)"
      ],
      "execution_count": 10,
      "outputs": [
        {
          "output_type": "stream",
          "text": [
            "(1184, 4, 1) (1184,)\n"
          ],
          "name": "stdout"
        }
      ]
    },
    {
      "cell_type": "code",
      "metadata": {
        "colab": {
          "base_uri": "https://localhost:8080/"
        },
        "id": "fJ6Gh7jyTn5U",
        "outputId": "60f12e5b-023a-49d9-948c-935c9a1b282e"
      },
      "source": [
        "model_fix = Sequential()\n",
        "model_fix.add(LSTM(units = 50, batch_input_shape = (1, x_res_train_rnn.shape[1], 1)))\n",
        "model_fix.add(Dense(units = 4, activation=\"relu\"))\n",
        "model_fix.add(Dense(units = 1))\n",
        "model_fix.summary()"
      ],
      "execution_count": 11,
      "outputs": [
        {
          "output_type": "stream",
          "text": [
            "Model: \"sequential\"\n",
            "_________________________________________________________________\n",
            "Layer (type)                 Output Shape              Param #   \n",
            "=================================================================\n",
            "lstm (LSTM)                  (1, 50)                   10400     \n",
            "_________________________________________________________________\n",
            "dense (Dense)                (1, 4)                    204       \n",
            "_________________________________________________________________\n",
            "dense_1 (Dense)              (1, 1)                    5         \n",
            "=================================================================\n",
            "Total params: 10,609\n",
            "Trainable params: 10,609\n",
            "Non-trainable params: 0\n",
            "_________________________________________________________________\n"
          ],
          "name": "stdout"
        }
      ]
    },
    {
      "cell_type": "code",
      "metadata": {
        "id": "4P84rL0rlPkz"
      },
      "source": [
        "model_fix.compile(loss = \"mse\", optimizer = \"adam\", metrics = \"mae\")"
      ],
      "execution_count": 13,
      "outputs": []
    },
    {
      "cell_type": "code",
      "metadata": {
        "id": "7M3k4iGxkoUk"
      },
      "source": [
        "history = model_fix.fit(x_res_train_rnn, y_res_train, batch_size = 1, epochs = 400)"
      ],
      "execution_count": null,
      "outputs": []
    },
    {
      "cell_type": "code",
      "metadata": {
        "id": "jwm0QI8i2Qcp"
      },
      "source": [
        "model_fix.save(\"model_lstm.h5\")"
      ],
      "execution_count": 15,
      "outputs": []
    },
    {
      "cell_type": "code",
      "metadata": {
        "colab": {
          "base_uri": "https://localhost:8080/",
          "height": 279
        },
        "id": "lwX-WtAlZZkY",
        "outputId": "2c6758f6-5ed3-4ef4-e420-3d7f8cbab5c3"
      },
      "source": [
        "plt.plot(history.history['loss'], label = \"mse\")\n",
        "plt.ylabel('score')\n",
        "plt.xlabel('epoch')\n",
        "plt.show()"
      ],
      "execution_count": 16,
      "outputs": [
        {
          "output_type": "display_data",
          "data": {
            "image/png": "[encoded data removed]",
            "text/plain": [
              "<Figure size 432x288 with 1 Axes>"
            ]
          },
          "metadata": {
            "needs_background": "light"
          }
        }
      ]
    },
    {
      "cell_type": "code",
      "metadata": {
        "colab": {
          "base_uri": "https://localhost:8080/"
        },
        "id": "Waw0Xw8slM09",
        "outputId": "7b784f90-5781-462e-a01d-c8379b3a88e8"
      },
      "source": [
        "prediction = model_fix.predict(x_res_train_rnn)"
      ],
      "execution_count": 17,
      "outputs": [
        {
          "output_type": "stream",
          "text": [
            "WARNING:tensorflow:Model was constructed with shape (1, 4, 1) for input KerasTensor(type_spec=TensorSpec(shape=(1, 4, 1), dtype=tf.float32, name='lstm_input'), name='lstm_input', description=\"created by layer 'lstm_input'\"), but it was called on an input with incompatible shape (32, 4, 1).\n"
          ],
          "name": "stdout"
        }
      ]
    },
    {
      "cell_type": "code",
      "metadata": {
        "colab": {
          "base_uri": "https://localhost:8080/",
          "height": 295
        },
        "id": "e6de3oUjQpdo",
        "outputId": "3ff8f42e-7633-4eae-9024-e3c8a14d0022"
      },
      "source": [
        "#LSTM\n",
        "xaxis = range(x_res_train_rnn.shape[0])\n",
        "plt.plot(xaxis, y_res_train, label = \"Training\")\n",
        "plt.plot(xaxis, prediction, label = \"Predicition\")\n",
        "plt.xlabel(\"Observasi\")\n",
        "plt.ylabel(\"Nilainya\")\n",
        "plt.title(\"Plot Perbandingin Prediksi dan Asli\")\n",
        "plt.legend()\n",
        "plt.show()"
      ],
      "execution_count": 18,
      "outputs": [
        {
          "output_type": "display_data",
          "data": {
            "image/png": "[encoded data removed]",
            "text/plain": [
              "<Figure size 432x288 with 1 Axes>"
            ]
          },
          "metadata": {
            "needs_background": "light"
          }
        }
      ]
    }
  ]
}